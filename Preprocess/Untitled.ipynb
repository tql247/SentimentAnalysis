{
 "cells": [
  {
   "cell_type": "code",
   "execution_count": 1,
   "metadata": {},
   "outputs": [],
   "source": [
    "import pandas as pd"
   ]
  },
  {
   "cell_type": "code",
   "execution_count": 4,
   "metadata": {},
   "outputs": [],
   "source": [
    "raw = pd.read_csv('comments.csv')"
   ]
  },
  {
   "cell_type": "code",
   "execution_count": 5,
   "metadata": {},
   "outputs": [
    {
     "data": {
      "text/html": [
       "<div>\n",
       "<style scoped>\n",
       "    .dataframe tbody tr th:only-of-type {\n",
       "        vertical-align: middle;\n",
       "    }\n",
       "\n",
       "    .dataframe tbody tr th {\n",
       "        vertical-align: top;\n",
       "    }\n",
       "\n",
       "    .dataframe thead th {\n",
       "        text-align: right;\n",
       "    }\n",
       "</style>\n",
       "<table border=\"1\" class=\"dataframe\">\n",
       "  <thead>\n",
       "    <tr style=\"text-align: right;\">\n",
       "      <th></th>\n",
       "      <th>Comment</th>\n",
       "      <th>Rating</th>\n",
       "    </tr>\n",
       "  </thead>\n",
       "  <tbody>\n",
       "    <tr>\n",
       "      <th>0</th>\n",
       "      <td>Máy đẹp , để màn 120hz tụt pin hơi nhanh so vớ...</td>\n",
       "      <td>5/5</td>\n",
       "    </tr>\n",
       "    <tr>\n",
       "      <th>1</th>\n",
       "      <td>Mua tặng bx. Gọn nhẹ, màn oled đẹp, cam đỉnh. ...</td>\n",
       "      <td>5/5</td>\n",
       "    </tr>\n",
       "    <tr>\n",
       "      <th>2</th>\n",
       "      <td>Về hiểu năng máy thì cũng ngon tuy không phải ...</td>\n",
       "      <td>4/5</td>\n",
       "    </tr>\n",
       "    <tr>\n",
       "      <th>3</th>\n",
       "      <td>Hiệu năng tốt, nhưng pin quá tệ. Sạc pin lúc 6...</td>\n",
       "      <td>3/5</td>\n",
       "    </tr>\n",
       "    <tr>\n",
       "      <th>4</th>\n",
       "      <td>Xài đc 8 tiếng còn đòi cái j nữa</td>\n",
       "      <td>0/5</td>\n",
       "    </tr>\n",
       "    <tr>\n",
       "      <th>...</th>\n",
       "      <td>...</td>\n",
       "      <td>...</td>\n",
       "    </tr>\n",
       "    <tr>\n",
       "      <th>4135</th>\n",
       "      <td>Tính mua trả góp nhưng thấy trả góp thiệt thòi...</td>\n",
       "      <td>0/5</td>\n",
       "    </tr>\n",
       "    <tr>\n",
       "      <th>4136</th>\n",
       "      <td>Haha trả thẳng thì đỡ thiệt thòi</td>\n",
       "      <td>0/5</td>\n",
       "    </tr>\n",
       "    <tr>\n",
       "      <th>4137</th>\n",
       "      <td>Máy đẹp.dùng mượt khỏi chê.pin ổn dùng hỗn hợp...</td>\n",
       "      <td>5/5</td>\n",
       "    </tr>\n",
       "    <tr>\n",
       "      <th>4138</th>\n",
       "      <td>Rất tuyệt vời. Máy đẹp,chạy mượt hơn cả mong đ...</td>\n",
       "      <td>5/5</td>\n",
       "    </tr>\n",
       "    <tr>\n",
       "      <th>4139</th>\n",
       "      <td>Có màu tím ko shop</td>\n",
       "      <td>0/5</td>\n",
       "    </tr>\n",
       "  </tbody>\n",
       "</table>\n",
       "<p>4140 rows × 2 columns</p>\n",
       "</div>"
      ],
      "text/plain": [
       "                                                Comment Rating\n",
       "0     Máy đẹp , để màn 120hz tụt pin hơi nhanh so vớ...    5/5\n",
       "1     Mua tặng bx. Gọn nhẹ, màn oled đẹp, cam đỉnh. ...    5/5\n",
       "2     Về hiểu năng máy thì cũng ngon tuy không phải ...    4/5\n",
       "3     Hiệu năng tốt, nhưng pin quá tệ. Sạc pin lúc 6...    3/5\n",
       "4                     Xài đc 8 tiếng còn đòi cái j nữa     0/5\n",
       "...                                                 ...    ...\n",
       "4135  Tính mua trả góp nhưng thấy trả góp thiệt thòi...    0/5\n",
       "4136                  Haha trả thẳng thì đỡ thiệt thòi     0/5\n",
       "4137  Máy đẹp.dùng mượt khỏi chê.pin ổn dùng hỗn hợp...    5/5\n",
       "4138  Rất tuyệt vời. Máy đẹp,chạy mượt hơn cả mong đ...    5/5\n",
       "4139                                 Có màu tím ko shop    0/5\n",
       "\n",
       "[4140 rows x 2 columns]"
      ]
     },
     "execution_count": 5,
     "metadata": {},
     "output_type": "execute_result"
    }
   ],
   "source": [
    "raw"
   ]
  },
  {
   "cell_type": "code",
   "execution_count": 6,
   "metadata": {},
   "outputs": [
    {
     "data": {
      "text/plain": [
       "0       5/5\n",
       "1       5/5\n",
       "2       4/5\n",
       "3       3/5\n",
       "4       0/5\n",
       "       ... \n",
       "4135    0/5\n",
       "4136    0/5\n",
       "4137    5/5\n",
       "4138    5/5\n",
       "4139    0/5\n",
       "Name: Rating, Length: 4140, dtype: object"
      ]
     },
     "execution_count": 6,
     "metadata": {},
     "output_type": "execute_result"
    }
   ],
   "source": [
    "raw.Rating"
   ]
  },
  {
   "cell_type": "code",
   "execution_count": 8,
   "metadata": {},
   "outputs": [
    {
     "data": {
      "text/plain": [
       "0       False\n",
       "1       False\n",
       "2       False\n",
       "3       False\n",
       "4        True\n",
       "        ...  \n",
       "4135     True\n",
       "4136     True\n",
       "4137    False\n",
       "4138    False\n",
       "4139     True\n",
       "Name: Rating, Length: 4140, dtype: bool"
      ]
     },
     "execution_count": 8,
     "metadata": {},
     "output_type": "execute_result"
    }
   ],
   "source": [
    "raw.Rating == \"0/5\""
   ]
  },
  {
   "cell_type": "code",
   "execution_count": 20,
   "metadata": {},
   "outputs": [],
   "source": [
    "remove_invalid = raw[raw.Rating != \"0/5\"]"
   ]
  },
  {
   "cell_type": "code",
   "execution_count": 23,
   "metadata": {},
   "outputs": [
    {
     "data": {
      "text/html": [
       "<div>\n",
       "<style scoped>\n",
       "    .dataframe tbody tr th:only-of-type {\n",
       "        vertical-align: middle;\n",
       "    }\n",
       "\n",
       "    .dataframe tbody tr th {\n",
       "        vertical-align: top;\n",
       "    }\n",
       "\n",
       "    .dataframe thead th {\n",
       "        text-align: right;\n",
       "    }\n",
       "</style>\n",
       "<table border=\"1\" class=\"dataframe\">\n",
       "  <thead>\n",
       "    <tr style=\"text-align: right;\">\n",
       "      <th></th>\n",
       "      <th>Comment</th>\n",
       "      <th>Rating</th>\n",
       "    </tr>\n",
       "  </thead>\n",
       "  <tbody>\n",
       "    <tr>\n",
       "      <th>0</th>\n",
       "      <td>Máy đẹp , để màn 120hz tụt pin hơi nhanh so vớ...</td>\n",
       "      <td>5/5</td>\n",
       "    </tr>\n",
       "    <tr>\n",
       "      <th>1</th>\n",
       "      <td>Mua tặng bx. Gọn nhẹ, màn oled đẹp, cam đỉnh. ...</td>\n",
       "      <td>5/5</td>\n",
       "    </tr>\n",
       "    <tr>\n",
       "      <th>2</th>\n",
       "      <td>Về hiểu năng máy thì cũng ngon tuy không phải ...</td>\n",
       "      <td>4/5</td>\n",
       "    </tr>\n",
       "    <tr>\n",
       "      <th>3</th>\n",
       "      <td>Hiệu năng tốt, nhưng pin quá tệ. Sạc pin lúc 6...</td>\n",
       "      <td>3/5</td>\n",
       "    </tr>\n",
       "    <tr>\n",
       "      <th>4</th>\n",
       "      <td>Mua tặng bx. Gọn nhẹ, màn oled đẹp, cam đỉnh. ...</td>\n",
       "      <td>5/5</td>\n",
       "    </tr>\n",
       "    <tr>\n",
       "      <th>...</th>\n",
       "      <td>...</td>\n",
       "      <td>...</td>\n",
       "    </tr>\n",
       "    <tr>\n",
       "      <th>2292</th>\n",
       "      <td>Ko có gì phải bàn cãi về chất lượng, sử dụng q...</td>\n",
       "      <td>5/5</td>\n",
       "    </tr>\n",
       "    <tr>\n",
       "      <th>2293</th>\n",
       "      <td>Mình đặt mua iPhone 11 và lấy 1/11 tại tgdđ dù...</td>\n",
       "      <td>5/5</td>\n",
       "    </tr>\n",
       "    <tr>\n",
       "      <th>2294</th>\n",
       "      <td>Mượt ngon đẹp  Mỗi tội trả góp trả được khuyến...</td>\n",
       "      <td>5/5</td>\n",
       "    </tr>\n",
       "    <tr>\n",
       "      <th>2295</th>\n",
       "      <td>Máy đẹp.dùng mượt khỏi chê.pin ổn dùng hỗn hợp...</td>\n",
       "      <td>5/5</td>\n",
       "    </tr>\n",
       "    <tr>\n",
       "      <th>2296</th>\n",
       "      <td>Rất tuyệt vời. Máy đẹp,chạy mượt hơn cả mong đ...</td>\n",
       "      <td>5/5</td>\n",
       "    </tr>\n",
       "  </tbody>\n",
       "</table>\n",
       "<p>2297 rows × 2 columns</p>\n",
       "</div>"
      ],
      "text/plain": [
       "                                                Comment Rating\n",
       "0     Máy đẹp , để màn 120hz tụt pin hơi nhanh so vớ...    5/5\n",
       "1     Mua tặng bx. Gọn nhẹ, màn oled đẹp, cam đỉnh. ...    5/5\n",
       "2     Về hiểu năng máy thì cũng ngon tuy không phải ...    4/5\n",
       "3     Hiệu năng tốt, nhưng pin quá tệ. Sạc pin lúc 6...    3/5\n",
       "4     Mua tặng bx. Gọn nhẹ, màn oled đẹp, cam đỉnh. ...    5/5\n",
       "...                                                 ...    ...\n",
       "2292  Ko có gì phải bàn cãi về chất lượng, sử dụng q...    5/5\n",
       "2293  Mình đặt mua iPhone 11 và lấy 1/11 tại tgdđ dù...    5/5\n",
       "2294  Mượt ngon đẹp  Mỗi tội trả góp trả được khuyến...    5/5\n",
       "2295  Máy đẹp.dùng mượt khỏi chê.pin ổn dùng hỗn hợp...    5/5\n",
       "2296  Rất tuyệt vời. Máy đẹp,chạy mượt hơn cả mong đ...    5/5\n",
       "\n",
       "[2297 rows x 2 columns]"
      ]
     },
     "execution_count": 23,
     "metadata": {},
     "output_type": "execute_result"
    }
   ],
   "source": [
    "remove_invalid.reset_index(drop=True)"
   ]
  },
  {
   "cell_type": "code",
   "execution_count": 24,
   "metadata": {},
   "outputs": [],
   "source": [
    "remove_invalid.to_csv('raw.csv')"
   ]
  },
  {
   "cell_type": "code",
   "execution_count": null,
   "metadata": {},
   "outputs": [],
   "source": []
  }
 ],
 "metadata": {
  "kernelspec": {
   "display_name": "Python 3",
   "language": "python",
   "name": "python3"
  },
  "language_info": {
   "codemirror_mode": {
    "name": "ipython",
    "version": 3
   },
   "file_extension": ".py",
   "mimetype": "text/x-python",
   "name": "python",
   "nbconvert_exporter": "python",
   "pygments_lexer": "ipython3",
   "version": "3.7.9"
  }
 },
 "nbformat": 4,
 "nbformat_minor": 4
}
